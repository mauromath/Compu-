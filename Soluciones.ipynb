{
  "nbformat": 4,
  "nbformat_minor": 0,
  "metadata": {
    "colab": {
      "name": "Soluciones.ipynb",
      "provenance": [],
      "collapsed_sections": [],
      "authorship_tag": "ABX9TyMggmRrwUeNQcQoKw4M7BTD",
      "include_colab_link": true
    },
    "kernelspec": {
      "name": "python3",
      "display_name": "Python 3"
    }
  },
  "cells": [
    {
      "cell_type": "markdown",
      "metadata": {
        "id": "view-in-github",
        "colab_type": "text"
      },
      "source": [
        "<a href=\"https://colab.research.google.com/github/mauromath/Compu-/blob/main/Soluciones.ipynb\" target=\"_parent\"><img src=\"https://colab.research.google.com/assets/colab-badge.svg\" alt=\"Open In Colab\"/></a>"
      ]
    },
    {
      "cell_type": "code",
      "metadata": {
        "colab": {
          "base_uri": "https://localhost:8080/",
          "height": 537
        },
        "id": "oUXImOiJ1a_9",
        "outputId": "d05820be-e50f-4927-dffb-31af3db9f776"
      },
      "source": [
        "#Código para calcular la suma de ángulos internos.\r\n",
        "\r\n",
        "#ingresamos el número de lados de un polígono dado, mediante la función input\r\n",
        "#además el núemro de lados debe ser un entero > o = a 3, usamos la función int\r\n",
        "#el input lo guardamos o asignamos a una variable \"n\".\r\n",
        "\r\n",
        "n=int((input('Introduzca el número de lados de su polígono regular: \\n')))\r\n",
        "\r\n",
        "#Como un polígono debe tener al menos 3 lados si un usario ingresa un número \r\n",
        "#menor a 3, usamos la estructura if para divir el problema, entre los polígonos\r\n",
        "#válidos y  no válidos.\r\n",
        "if n==0 or n<3:\r\n",
        "  print('Un polígono debe tener al menos 3 lados')\r\n",
        "  \r\n",
        "#de tener un número entero > o = a 3, se calcula la suma interna de ángulos con\r\n",
        "#una fórmula inductiva y se imprime en la patalla el resultado. \r\n",
        "elif (n==3 or n>3):\r\n",
        "  suma=(n-2)*180\r\n",
        "  print(f'La suma de los ángulos internos de su polígono es: {suma}°') "
      ],
      "execution_count": 8,
      "outputs": [
        {
          "output_type": "error",
          "ename": "KeyboardInterrupt",
          "evalue": "ignored",
          "traceback": [
            "\u001b[0;31m---------------------------------------------------------------------------\u001b[0m",
            "\u001b[0;31mKeyboardInterrupt\u001b[0m                         Traceback (most recent call last)",
            "\u001b[0;32m/usr/local/lib/python3.6/dist-packages/ipykernel/kernelbase.py\u001b[0m in \u001b[0;36m_input_request\u001b[0;34m(self, prompt, ident, parent, password)\u001b[0m\n\u001b[1;32m    728\u001b[0m             \u001b[0;32mtry\u001b[0m\u001b[0;34m:\u001b[0m\u001b[0;34m\u001b[0m\u001b[0;34m\u001b[0m\u001b[0m\n\u001b[0;32m--> 729\u001b[0;31m                 \u001b[0mident\u001b[0m\u001b[0;34m,\u001b[0m \u001b[0mreply\u001b[0m \u001b[0;34m=\u001b[0m \u001b[0mself\u001b[0m\u001b[0;34m.\u001b[0m\u001b[0msession\u001b[0m\u001b[0;34m.\u001b[0m\u001b[0mrecv\u001b[0m\u001b[0;34m(\u001b[0m\u001b[0mself\u001b[0m\u001b[0;34m.\u001b[0m\u001b[0mstdin_socket\u001b[0m\u001b[0;34m,\u001b[0m \u001b[0;36m0\u001b[0m\u001b[0;34m)\u001b[0m\u001b[0;34m\u001b[0m\u001b[0;34m\u001b[0m\u001b[0m\n\u001b[0m\u001b[1;32m    730\u001b[0m             \u001b[0;32mexcept\u001b[0m \u001b[0mException\u001b[0m\u001b[0;34m:\u001b[0m\u001b[0;34m\u001b[0m\u001b[0;34m\u001b[0m\u001b[0m\n",
            "\u001b[0;32m/usr/local/lib/python3.6/dist-packages/jupyter_client/session.py\u001b[0m in \u001b[0;36mrecv\u001b[0;34m(self, socket, mode, content, copy)\u001b[0m\n\u001b[1;32m    802\u001b[0m         \u001b[0;32mtry\u001b[0m\u001b[0;34m:\u001b[0m\u001b[0;34m\u001b[0m\u001b[0;34m\u001b[0m\u001b[0m\n\u001b[0;32m--> 803\u001b[0;31m             \u001b[0mmsg_list\u001b[0m \u001b[0;34m=\u001b[0m \u001b[0msocket\u001b[0m\u001b[0;34m.\u001b[0m\u001b[0mrecv_multipart\u001b[0m\u001b[0;34m(\u001b[0m\u001b[0mmode\u001b[0m\u001b[0;34m,\u001b[0m \u001b[0mcopy\u001b[0m\u001b[0;34m=\u001b[0m\u001b[0mcopy\u001b[0m\u001b[0;34m)\u001b[0m\u001b[0;34m\u001b[0m\u001b[0;34m\u001b[0m\u001b[0m\n\u001b[0m\u001b[1;32m    804\u001b[0m         \u001b[0;32mexcept\u001b[0m \u001b[0mzmq\u001b[0m\u001b[0;34m.\u001b[0m\u001b[0mZMQError\u001b[0m \u001b[0;32mas\u001b[0m \u001b[0me\u001b[0m\u001b[0;34m:\u001b[0m\u001b[0;34m\u001b[0m\u001b[0;34m\u001b[0m\u001b[0m\n",
            "\u001b[0;32m/usr/local/lib/python3.6/dist-packages/zmq/sugar/socket.py\u001b[0m in \u001b[0;36mrecv_multipart\u001b[0;34m(self, flags, copy, track)\u001b[0m\n\u001b[1;32m    565\u001b[0m         \"\"\"\n\u001b[0;32m--> 566\u001b[0;31m         \u001b[0mparts\u001b[0m \u001b[0;34m=\u001b[0m \u001b[0;34m[\u001b[0m\u001b[0mself\u001b[0m\u001b[0;34m.\u001b[0m\u001b[0mrecv\u001b[0m\u001b[0;34m(\u001b[0m\u001b[0mflags\u001b[0m\u001b[0;34m,\u001b[0m \u001b[0mcopy\u001b[0m\u001b[0;34m=\u001b[0m\u001b[0mcopy\u001b[0m\u001b[0;34m,\u001b[0m \u001b[0mtrack\u001b[0m\u001b[0;34m=\u001b[0m\u001b[0mtrack\u001b[0m\u001b[0;34m)\u001b[0m\u001b[0;34m]\u001b[0m\u001b[0;34m\u001b[0m\u001b[0;34m\u001b[0m\u001b[0m\n\u001b[0m\u001b[1;32m    567\u001b[0m         \u001b[0;31m# have first part already, only loop while more to receive\u001b[0m\u001b[0;34m\u001b[0m\u001b[0;34m\u001b[0m\u001b[0;34m\u001b[0m\u001b[0m\n",
            "\u001b[0;32mzmq/backend/cython/socket.pyx\u001b[0m in \u001b[0;36mzmq.backend.cython.socket.Socket.recv\u001b[0;34m()\u001b[0m\n",
            "\u001b[0;32mzmq/backend/cython/socket.pyx\u001b[0m in \u001b[0;36mzmq.backend.cython.socket.Socket.recv\u001b[0;34m()\u001b[0m\n",
            "\u001b[0;32mzmq/backend/cython/socket.pyx\u001b[0m in \u001b[0;36mzmq.backend.cython.socket._recv_copy\u001b[0;34m()\u001b[0m\n",
            "\u001b[0;32m/usr/local/lib/python3.6/dist-packages/zmq/backend/cython/checkrc.pxd\u001b[0m in \u001b[0;36mzmq.backend.cython.checkrc._check_rc\u001b[0;34m()\u001b[0m\n",
            "\u001b[0;31mKeyboardInterrupt\u001b[0m: ",
            "\nDuring handling of the above exception, another exception occurred:\n",
            "\u001b[0;31mKeyboardInterrupt\u001b[0m                         Traceback (most recent call last)",
            "\u001b[0;32m<ipython-input-8-5bb1edbec7b2>\u001b[0m in \u001b[0;36m<module>\u001b[0;34m()\u001b[0m\n\u001b[1;32m      5\u001b[0m \u001b[0;31m#el input lo guardamos o asignamos a una variable \"n\".\u001b[0m\u001b[0;34m\u001b[0m\u001b[0;34m\u001b[0m\u001b[0;34m\u001b[0m\u001b[0m\n\u001b[1;32m      6\u001b[0m \u001b[0;34m\u001b[0m\u001b[0m\n\u001b[0;32m----> 7\u001b[0;31m \u001b[0mn\u001b[0m\u001b[0;34m=\u001b[0m\u001b[0mint\u001b[0m\u001b[0;34m(\u001b[0m\u001b[0;34m(\u001b[0m\u001b[0minput\u001b[0m\u001b[0;34m(\u001b[0m\u001b[0;34m'Introduzca el número de lados de su polígono regular: \\n'\u001b[0m\u001b[0;34m)\u001b[0m\u001b[0;34m)\u001b[0m\u001b[0;34m)\u001b[0m\u001b[0;34m\u001b[0m\u001b[0;34m\u001b[0m\u001b[0m\n\u001b[0m\u001b[1;32m      8\u001b[0m \u001b[0;34m\u001b[0m\u001b[0m\n\u001b[1;32m      9\u001b[0m \u001b[0;31m#Como un polígono debe tener al menos 3 lados si un usario ingresa un número\u001b[0m\u001b[0;34m\u001b[0m\u001b[0;34m\u001b[0m\u001b[0;34m\u001b[0m\u001b[0m\n",
            "\u001b[0;32m/usr/local/lib/python3.6/dist-packages/ipykernel/kernelbase.py\u001b[0m in \u001b[0;36mraw_input\u001b[0;34m(self, prompt)\u001b[0m\n\u001b[1;32m    702\u001b[0m             \u001b[0mself\u001b[0m\u001b[0;34m.\u001b[0m\u001b[0m_parent_ident\u001b[0m\u001b[0;34m,\u001b[0m\u001b[0;34m\u001b[0m\u001b[0;34m\u001b[0m\u001b[0m\n\u001b[1;32m    703\u001b[0m             \u001b[0mself\u001b[0m\u001b[0;34m.\u001b[0m\u001b[0m_parent_header\u001b[0m\u001b[0;34m,\u001b[0m\u001b[0;34m\u001b[0m\u001b[0;34m\u001b[0m\u001b[0m\n\u001b[0;32m--> 704\u001b[0;31m             \u001b[0mpassword\u001b[0m\u001b[0;34m=\u001b[0m\u001b[0;32mFalse\u001b[0m\u001b[0;34m,\u001b[0m\u001b[0;34m\u001b[0m\u001b[0;34m\u001b[0m\u001b[0m\n\u001b[0m\u001b[1;32m    705\u001b[0m         )\n\u001b[1;32m    706\u001b[0m \u001b[0;34m\u001b[0m\u001b[0m\n",
            "\u001b[0;32m/usr/local/lib/python3.6/dist-packages/ipykernel/kernelbase.py\u001b[0m in \u001b[0;36m_input_request\u001b[0;34m(self, prompt, ident, parent, password)\u001b[0m\n\u001b[1;32m    732\u001b[0m             \u001b[0;32mexcept\u001b[0m \u001b[0mKeyboardInterrupt\u001b[0m\u001b[0;34m:\u001b[0m\u001b[0;34m\u001b[0m\u001b[0;34m\u001b[0m\u001b[0m\n\u001b[1;32m    733\u001b[0m                 \u001b[0;31m# re-raise KeyboardInterrupt, to truncate traceback\u001b[0m\u001b[0;34m\u001b[0m\u001b[0;34m\u001b[0m\u001b[0;34m\u001b[0m\u001b[0m\n\u001b[0;32m--> 734\u001b[0;31m                 \u001b[0;32mraise\u001b[0m \u001b[0mKeyboardInterrupt\u001b[0m\u001b[0;34m\u001b[0m\u001b[0;34m\u001b[0m\u001b[0m\n\u001b[0m\u001b[1;32m    735\u001b[0m             \u001b[0;32melse\u001b[0m\u001b[0;34m:\u001b[0m\u001b[0;34m\u001b[0m\u001b[0;34m\u001b[0m\u001b[0m\n\u001b[1;32m    736\u001b[0m                 \u001b[0;32mbreak\u001b[0m\u001b[0;34m\u001b[0m\u001b[0;34m\u001b[0m\u001b[0m\n",
            "\u001b[0;31mKeyboardInterrupt\u001b[0m: "
          ]
        }
      ]
    },
    {
      "cell_type": "code",
      "metadata": {
        "id": "VoBSDo-nSg4S"
      },
      "source": [
        "import numpy as np"
      ],
      "execution_count": 14,
      "outputs": []
    },
    {
      "cell_type": "code",
      "metadata": {
        "colab": {
          "base_uri": "https://localhost:8080/",
          "height": 270
        },
        "id": "v8d_wc-vgqg6",
        "outputId": "d69f6dc5-7f01-425b-9275-847703cad069"
      },
      "source": [
        "#Código para ingresar valores de una matriz de tamaño 3x3.\r\n",
        "\r\n",
        "#Para ingresar valores usamos la función input, tomaremos el caso de matrices\r\n",
        "#reales, para convertir las entradas en \"reales\" usamos float y lo asignamos a \r\n",
        "#una varible.\r\n",
        "\r\n",
        "#Pedimos al usuario ingresar sus valores mediante un mensaje.\r\n",
        "print('Introduzca los elementos de su matriz por filas')\r\n",
        "\r\n",
        "#se guardan los inputs como floats en  variables.\r\n",
        "a_11 = float(input()) \r\n",
        "a_12 = float(input()) \r\n",
        "a_13 = float(input())\r\n",
        "\r\n",
        "a_21 = float(input())\r\n",
        "a_22 = float(input())\r\n",
        "a_23 = float(input())\r\n",
        "\r\n",
        "a_31 = float(input())\r\n",
        "a_32 = float(input())\r\n",
        "a_33 = float(input())\r\n",
        "\r\n",
        "#se crea una lista vacía para agregar los valores de la matriz por filas.\r\n",
        "A_1=[]\r\n",
        "#se agregan las variables a la lista vacía con la función append.\r\n",
        "A_1.append(a_11)\r\n",
        "A_1.append(a_12)\r\n",
        "A_1.append(a_13)\r\n",
        "\r\n",
        "A_2=[]\r\n",
        "A_2.append(a_21)\r\n",
        "A_2.append(a_22)\r\n",
        "A_2.append(a_23)\r\n",
        "\r\n",
        "A_3=[]\r\n",
        "A_3.append(a_31)\r\n",
        "A_3.append(a_32)\r\n",
        "A_3.append(a_33)\r\n",
        "\r\n",
        "#se crea una lista cuyos elementos son listas para generar una matriz. \r\n",
        "A=[A_1,A_2,A_3]\r\n",
        "\r\n",
        "#se imprime la matriz con los valores de entrada. \r\n",
        "print(f'A={A}')"
      ],
      "execution_count": 9,
      "outputs": [
        {
          "output_type": "stream",
          "text": [
            "Introduzca los elementos de su matriz por filas\n",
            "a\n"
          ],
          "name": "stdout"
        },
        {
          "output_type": "error",
          "ename": "ValueError",
          "evalue": "ignored",
          "traceback": [
            "\u001b[0;31m---------------------------------------------------------------------------\u001b[0m",
            "\u001b[0;31mValueError\u001b[0m                                Traceback (most recent call last)",
            "\u001b[0;32m<ipython-input-9-559dc6e2514a>\u001b[0m in \u001b[0;36m<module>\u001b[0;34m()\u001b[0m\n\u001b[1;32m      9\u001b[0m \u001b[0;34m\u001b[0m\u001b[0m\n\u001b[1;32m     10\u001b[0m \u001b[0;31m#se guardan los inputs como floats en  variables.\u001b[0m\u001b[0;34m\u001b[0m\u001b[0;34m\u001b[0m\u001b[0;34m\u001b[0m\u001b[0m\n\u001b[0;32m---> 11\u001b[0;31m \u001b[0ma_11\u001b[0m \u001b[0;34m=\u001b[0m \u001b[0mfloat\u001b[0m\u001b[0;34m(\u001b[0m\u001b[0minput\u001b[0m\u001b[0;34m(\u001b[0m\u001b[0;34m)\u001b[0m\u001b[0;34m)\u001b[0m\u001b[0;34m\u001b[0m\u001b[0;34m\u001b[0m\u001b[0m\n\u001b[0m\u001b[1;32m     12\u001b[0m \u001b[0ma_12\u001b[0m \u001b[0;34m=\u001b[0m \u001b[0mfloat\u001b[0m\u001b[0;34m(\u001b[0m\u001b[0minput\u001b[0m\u001b[0;34m(\u001b[0m\u001b[0;34m)\u001b[0m\u001b[0;34m)\u001b[0m\u001b[0;34m\u001b[0m\u001b[0;34m\u001b[0m\u001b[0m\n\u001b[1;32m     13\u001b[0m \u001b[0ma_13\u001b[0m \u001b[0;34m=\u001b[0m \u001b[0mfloat\u001b[0m\u001b[0;34m(\u001b[0m\u001b[0minput\u001b[0m\u001b[0;34m(\u001b[0m\u001b[0;34m)\u001b[0m\u001b[0;34m)\u001b[0m\u001b[0;34m\u001b[0m\u001b[0;34m\u001b[0m\u001b[0m\n",
            "\u001b[0;31mValueError\u001b[0m: could not convert string to float: 'a'"
          ]
        }
      ]
    },
    {
      "cell_type": "code",
      "metadata": {
        "id": "6nAN7-d3lnOf"
      },
      "source": [
        "#para ver el tipo de objeto que se creo usamos type\r\n",
        "type()"
      ],
      "execution_count": null,
      "outputs": []
    },
    {
      "cell_type": "code",
      "metadata": {
        "id": "55M067epSoFU"
      },
      "source": [
        "#Paso intermedio para calacular el determinante de una matriz de tamaño 3x3\r\n",
        "\r\n",
        "#código para matrices de tamaño 3x3.\r\n",
        "\r\n",
        "#definimos nuetra función con def de una sóla varible de tipo lista.\r\n",
        "def det (lista):\r\n",
        " \r\n",
        "#Asignamos a una variable el input \r\n",
        "  A=lista\r\n",
        "\r\n",
        "#accedemos a los elementos de la lista para realizar operaciones aritméticas. \r\n",
        " \r\n",
        "  det=(A[0][0]*A[1][1] - A[0][1]*A[1][0])\r\n",
        "\r\n",
        "#nos \"aseguramos \" de tener un número real.\r\n",
        "  x=float(det)\r\n",
        "#imprime en pantalla el valor númerico del determinante de una matriz de tamaño \r\n",
        "#2x2\r\n",
        "  print (f'det {A} = {x}')\r\n",
        "  "
      ],
      "execution_count": 10,
      "outputs": []
    },
    {
      "cell_type": "code",
      "metadata": {
        "id": "SYUiIH7CZnGq"
      },
      "source": [
        "#Código para calcular el determinante de una matriz de tamaño 3x3\r\n",
        "\r\n",
        "#definimos una función de una sola variable.\r\n",
        "def determinante (lista):\r\n",
        "  A=lista\r\n",
        "\r\n",
        "#creamos submatrices de tamaño 2x2 accediendo a los elementos de la lista de \r\n",
        "#entrada\r\n",
        "\r\n",
        "  A_1=np.array([[A[1][1],A[1][2]],[A[2][1],A[2][2]]])\r\n",
        "  A_2=np.array([[A[1][0],A[1][2]],[A[2][0],A[2][2]]])\r\n",
        "  A_3=np.array([[A[1][0],A[1][1]],[A[2][0],A[2][1]]])\r\n",
        " \r\n",
        "#cálculo de una submatriz de tamaño 2x2. \r\n",
        "  det_1=(A_1[0][0]*A_1[1][1] - A_1[0][1]*A_1[1][0])\r\n",
        " \r\n",
        "  det_2=(A_2[0][0]*A_2[1][1] - A_2[0][1]*A_2[1][0])\r\n",
        "\r\n",
        "  det_3=(A_3[0][0]*A_3[1][1] - A_3[0][1]*A_3[1][0])\r\n",
        "\r\n",
        " #cálculo del determinate de la matriz de entrada.\r\n",
        "  det=(A[0][0]*det_1 - A[0][1]*det_2 + A[0][2]*det_3)\r\n",
        "  x=float(det)\r\n",
        " #imprime en la pantalla el valor númerico del determinante. \r\n",
        "  print(f'det({A})= {x}')\r\n",
        "  \r\n"
      ],
      "execution_count": 11,
      "outputs": []
    }
  ]
}